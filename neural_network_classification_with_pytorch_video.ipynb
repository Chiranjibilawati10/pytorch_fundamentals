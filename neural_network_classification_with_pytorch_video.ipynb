{
  "nbformat": 4,
  "nbformat_minor": 0,
  "metadata": {
    "colab": {
      "provenance": [],
      "gpuType": "T4",
      "authorship_tag": "ABX9TyOke2aEM69hg5Mlmbo3R3PM",
      "include_colab_link": true
    },
    "kernelspec": {
      "name": "python3",
      "display_name": "Python 3"
    },
    "language_info": {
      "name": "python"
    },
    "accelerator": "GPU"
  },
  "cells": [
    {
      "cell_type": "markdown",
      "metadata": {
        "id": "view-in-github",
        "colab_type": "text"
      },
      "source": [
        "<a href=\"https://colab.research.google.com/github/Chiranjibilawati10/pytorch_fundamentals/blob/main/neural_network_classification_with_pytorch_video.ipynb\" target=\"_parent\"><img src=\"https://colab.research.google.com/assets/colab-badge.svg\" alt=\"Open In Colab\"/></a>"
      ]
    },
    {
      "cell_type": "code",
      "execution_count": 29,
      "metadata": {
        "id": "MfiLIzoN8zT7"
      },
      "outputs": [],
      "source": [
        "import sklearn"
      ]
    },
    {
      "cell_type": "code",
      "source": [
        "from sklearn.datasets import make_circles\n",
        "#making 1000 samples\n",
        "n_samples = 1000\n",
        "\n",
        "#create circles\n",
        "X, y = make_circles(n_samples,\n",
        "                    noise=0.03,\n",
        "                    random_state=42)"
      ],
      "metadata": {
        "id": "a-1kllmrAoj0"
      },
      "execution_count": 30,
      "outputs": []
    },
    {
      "cell_type": "code",
      "source": [
        "len(X), len(y)"
      ],
      "metadata": {
        "colab": {
          "base_uri": "https://localhost:8080/"
        },
        "id": "uvfK66djAtOQ",
        "outputId": "28592f31-7977-4334-978a-6c390613bd0b"
      },
      "execution_count": 31,
      "outputs": [
        {
          "output_type": "execute_result",
          "data": {
            "text/plain": [
              "(1000, 1000)"
            ]
          },
          "metadata": {},
          "execution_count": 31
        }
      ]
    },
    {
      "cell_type": "code",
      "source": [
        "print(f\"First 5 samples of X:\\n{X[:5]}\")\n",
        "print(f\"First 5 samples of y:\\n{y[:5]}\")\n"
      ],
      "metadata": {
        "colab": {
          "base_uri": "https://localhost:8080/"
        },
        "id": "F0fD7XtoBUR4",
        "outputId": "7abc3d56-6313-46bc-be2f-4d8823a28bbd"
      },
      "execution_count": 32,
      "outputs": [
        {
          "output_type": "stream",
          "name": "stdout",
          "text": [
            "First 5 samples of X:\n",
            "[[ 0.75424625  0.23148074]\n",
            " [-0.75615888  0.15325888]\n",
            " [-0.81539193  0.17328203]\n",
            " [-0.39373073  0.69288277]\n",
            " [ 0.44220765 -0.89672343]]\n",
            "First 5 samples of y:\n",
            "[1 1 1 1 0]\n"
          ]
        }
      ]
    },
    {
      "cell_type": "code",
      "source": [
        "y"
      ],
      "metadata": {
        "colab": {
          "base_uri": "https://localhost:8080/"
        },
        "id": "jSinhBriB-5w",
        "outputId": "8e92dd20-6cc0-4393-b445-d71055d9b8e0"
      },
      "execution_count": 33,
      "outputs": [
        {
          "output_type": "execute_result",
          "data": {
            "text/plain": [
              "array([1, 1, 1, 1, 0, 1, 1, 1, 1, 0, 1, 0, 1, 1, 1, 1, 0, 1, 1, 0, 1, 0,\n",
              "       0, 1, 0, 0, 0, 1, 1, 1, 0, 0, 1, 0, 0, 0, 1, 1, 1, 0, 0, 0, 0, 1,\n",
              "       0, 0, 1, 1, 0, 1, 1, 1, 0, 1, 0, 0, 1, 0, 0, 1, 0, 0, 1, 0, 1, 1,\n",
              "       1, 1, 0, 1, 0, 0, 1, 1, 0, 0, 1, 0, 1, 0, 1, 0, 0, 0, 0, 1, 1, 1,\n",
              "       1, 0, 0, 0, 1, 0, 1, 0, 1, 0, 0, 1, 1, 0, 1, 0, 1, 1, 1, 1, 0, 1,\n",
              "       1, 1, 1, 1, 0, 0, 0, 1, 1, 0, 1, 0, 1, 0, 0, 1, 1, 0, 1, 1, 1, 1,\n",
              "       0, 1, 1, 0, 0, 0, 0, 0, 0, 0, 1, 0, 1, 1, 1, 0, 1, 0, 1, 0, 1, 0,\n",
              "       1, 0, 0, 1, 0, 1, 1, 1, 1, 1, 1, 1, 0, 1, 0, 0, 0, 0, 0, 1, 0, 0,\n",
              "       0, 0, 1, 1, 0, 1, 0, 1, 1, 0, 0, 0, 1, 1, 1, 1, 1, 0, 0, 0, 0, 0,\n",
              "       1, 0, 0, 1, 1, 1, 1, 1, 0, 1, 0, 1, 0, 0, 1, 1, 1, 0, 1, 0, 1, 1,\n",
              "       0, 1, 1, 0, 1, 0, 1, 0, 1, 1, 0, 1, 0, 1, 0, 0, 0, 1, 0, 0, 0, 0,\n",
              "       1, 1, 0, 0, 0, 0, 0, 0, 0, 1, 1, 1, 0, 0, 1, 1, 1, 0, 1, 0, 0, 0,\n",
              "       0, 1, 1, 0, 1, 0, 0, 0, 1, 0, 1, 0, 0, 1, 0, 1, 1, 1, 0, 0, 0, 1,\n",
              "       0, 0, 0, 1, 1, 1, 1, 0, 0, 0, 1, 0, 0, 0, 1, 0, 0, 0, 1, 1, 0, 1,\n",
              "       1, 1, 1, 1, 1, 1, 0, 0, 0, 0, 1, 0, 0, 0, 0, 1, 1, 1, 0, 0, 1, 0,\n",
              "       1, 0, 1, 1, 0, 0, 1, 1, 1, 1, 0, 0, 0, 0, 0, 0, 1, 1, 0, 1, 0, 0,\n",
              "       1, 0, 0, 0, 0, 0, 0, 0, 0, 1, 0, 0, 0, 0, 1, 0, 0, 1, 0, 1, 0, 0,\n",
              "       0, 1, 0, 0, 1, 1, 0, 0, 1, 0, 0, 1, 1, 0, 1, 1, 0, 0, 1, 0, 1, 0,\n",
              "       0, 0, 1, 1, 0, 0, 1, 1, 1, 1, 1, 0, 0, 1, 1, 1, 1, 0, 1, 1, 1, 1,\n",
              "       1, 0, 0, 1, 0, 1, 0, 0, 0, 0, 1, 0, 0, 0, 0, 0, 0, 0, 0, 0, 1, 1,\n",
              "       0, 1, 1, 1, 1, 1, 1, 0, 1, 1, 1, 1, 0, 0, 0, 1, 1, 1, 0, 0, 0, 0,\n",
              "       1, 1, 0, 0, 0, 0, 1, 0, 0, 0, 1, 0, 0, 1, 1, 1, 1, 1, 1, 0, 0, 0,\n",
              "       1, 0, 0, 0, 0, 0, 1, 1, 1, 0, 0, 0, 0, 0, 1, 1, 1, 0, 0, 1, 1, 1,\n",
              "       1, 0, 1, 1, 0, 1, 0, 0, 0, 1, 0, 0, 1, 0, 0, 1, 1, 0, 0, 1, 1, 0,\n",
              "       1, 0, 1, 0, 1, 0, 1, 0, 0, 0, 1, 0, 0, 0, 0, 0, 0, 1, 1, 1, 1, 0,\n",
              "       0, 0, 1, 0, 1, 1, 0, 0, 0, 0, 0, 1, 1, 1, 0, 0, 1, 0, 0, 1, 0, 0,\n",
              "       1, 0, 0, 1, 0, 0, 0, 1, 0, 0, 1, 1, 1, 0, 1, 1, 0, 0, 0, 1, 1, 1,\n",
              "       1, 0, 0, 1, 1, 1, 0, 0, 0, 0, 1, 1, 0, 0, 1, 1, 0, 0, 1, 1, 1, 1,\n",
              "       1, 1, 1, 0, 1, 0, 1, 0, 0, 1, 0, 1, 1, 1, 1, 0, 0, 1, 1, 0, 0, 1,\n",
              "       0, 1, 0, 0, 0, 1, 0, 0, 1, 1, 1, 1, 0, 1, 1, 1, 1, 1, 1, 1, 0, 1,\n",
              "       0, 1, 1, 1, 0, 0, 1, 0, 0, 0, 1, 1, 1, 1, 0, 0, 0, 0, 1, 0, 1, 1,\n",
              "       1, 0, 1, 0, 0, 1, 0, 0, 1, 1, 1, 1, 1, 0, 1, 0, 0, 0, 1, 1, 1, 1,\n",
              "       1, 0, 0, 0, 1, 1, 1, 1, 0, 0, 0, 0, 0, 1, 1, 0, 1, 0, 1, 0, 0, 0,\n",
              "       0, 0, 0, 0, 0, 0, 1, 1, 1, 1, 1, 0, 1, 0, 1, 1, 1, 1, 0, 1, 1, 1,\n",
              "       1, 1, 1, 1, 1, 0, 1, 1, 0, 1, 0, 0, 0, 1, 0, 1, 1, 1, 0, 1, 1, 0,\n",
              "       1, 1, 0, 1, 0, 1, 1, 0, 0, 1, 1, 1, 0, 0, 0, 0, 1, 1, 0, 0, 1, 1,\n",
              "       1, 1, 1, 1, 1, 1, 1, 1, 1, 1, 1, 1, 0, 0, 1, 0, 1, 0, 1, 0, 1, 1,\n",
              "       1, 1, 1, 1, 0, 1, 0, 1, 1, 1, 0, 1, 1, 0, 0, 1, 0, 1, 1, 0, 0, 1,\n",
              "       1, 1, 1, 1, 1, 1, 1, 0, 1, 1, 1, 0, 1, 0, 0, 1, 1, 0, 0, 0, 1, 0,\n",
              "       0, 1, 0, 0, 0, 1, 0, 1, 0, 0, 0, 0, 1, 0, 1, 1, 1, 1, 0, 1, 0, 0,\n",
              "       0, 0, 0, 0, 1, 0, 1, 0, 1, 0, 1, 1, 1, 0, 1, 0, 1, 0, 0, 1, 1, 1,\n",
              "       0, 0, 0, 1, 1, 0, 1, 0, 1, 1, 0, 1, 0, 0, 1, 1, 1, 0, 0, 0, 1, 1,\n",
              "       0, 0, 0, 0, 0, 1, 1, 0, 1, 0, 0, 0, 1, 0, 0, 0, 1, 1, 1, 1, 0, 1,\n",
              "       1, 1, 0, 1, 1, 1, 1, 0, 1, 1, 0, 1, 1, 0, 0, 1, 1, 1, 0, 0, 0, 0,\n",
              "       0, 0, 1, 0, 0, 1, 0, 0, 0, 1, 0, 1, 0, 1, 1, 0, 0, 0, 0, 0, 0, 0,\n",
              "       0, 1, 0, 1, 0, 0, 0, 1, 0, 0])"
            ]
          },
          "metadata": {},
          "execution_count": 33
        }
      ]
    },
    {
      "cell_type": "code",
      "source": [
        "#make DataFrame of circle data\n",
        "import pandas as pd\n",
        "circles = pd.DataFrame({\"X1\":X[:,0],\n",
        "                        \"X2\":X[:,1],\n",
        "                        \"label\":y})\n",
        "circles.head(10)"
      ],
      "metadata": {
        "colab": {
          "base_uri": "https://localhost:8080/",
          "height": 363
        },
        "id": "_OmdmstCC62p",
        "outputId": "d39b1ed1-09f5-4c9d-eacb-92f0247ac9cc"
      },
      "execution_count": 34,
      "outputs": [
        {
          "output_type": "execute_result",
          "data": {
            "text/plain": [
              "         X1        X2  label\n",
              "0  0.754246  0.231481      1\n",
              "1 -0.756159  0.153259      1\n",
              "2 -0.815392  0.173282      1\n",
              "3 -0.393731  0.692883      1\n",
              "4  0.442208 -0.896723      0\n",
              "5 -0.479646  0.676435      1\n",
              "6 -0.013648  0.803349      1\n",
              "7  0.771513  0.147760      1\n",
              "8 -0.169322 -0.793456      1\n",
              "9 -0.121486  1.021509      0"
            ],
            "text/html": [
              "\n",
              "  <div id=\"df-13196a2b-049b-4868-bbbd-540d94917612\" class=\"colab-df-container\">\n",
              "    <div>\n",
              "<style scoped>\n",
              "    .dataframe tbody tr th:only-of-type {\n",
              "        vertical-align: middle;\n",
              "    }\n",
              "\n",
              "    .dataframe tbody tr th {\n",
              "        vertical-align: top;\n",
              "    }\n",
              "\n",
              "    .dataframe thead th {\n",
              "        text-align: right;\n",
              "    }\n",
              "</style>\n",
              "<table border=\"1\" class=\"dataframe\">\n",
              "  <thead>\n",
              "    <tr style=\"text-align: right;\">\n",
              "      <th></th>\n",
              "      <th>X1</th>\n",
              "      <th>X2</th>\n",
              "      <th>label</th>\n",
              "    </tr>\n",
              "  </thead>\n",
              "  <tbody>\n",
              "    <tr>\n",
              "      <th>0</th>\n",
              "      <td>0.754246</td>\n",
              "      <td>0.231481</td>\n",
              "      <td>1</td>\n",
              "    </tr>\n",
              "    <tr>\n",
              "      <th>1</th>\n",
              "      <td>-0.756159</td>\n",
              "      <td>0.153259</td>\n",
              "      <td>1</td>\n",
              "    </tr>\n",
              "    <tr>\n",
              "      <th>2</th>\n",
              "      <td>-0.815392</td>\n",
              "      <td>0.173282</td>\n",
              "      <td>1</td>\n",
              "    </tr>\n",
              "    <tr>\n",
              "      <th>3</th>\n",
              "      <td>-0.393731</td>\n",
              "      <td>0.692883</td>\n",
              "      <td>1</td>\n",
              "    </tr>\n",
              "    <tr>\n",
              "      <th>4</th>\n",
              "      <td>0.442208</td>\n",
              "      <td>-0.896723</td>\n",
              "      <td>0</td>\n",
              "    </tr>\n",
              "    <tr>\n",
              "      <th>5</th>\n",
              "      <td>-0.479646</td>\n",
              "      <td>0.676435</td>\n",
              "      <td>1</td>\n",
              "    </tr>\n",
              "    <tr>\n",
              "      <th>6</th>\n",
              "      <td>-0.013648</td>\n",
              "      <td>0.803349</td>\n",
              "      <td>1</td>\n",
              "    </tr>\n",
              "    <tr>\n",
              "      <th>7</th>\n",
              "      <td>0.771513</td>\n",
              "      <td>0.147760</td>\n",
              "      <td>1</td>\n",
              "    </tr>\n",
              "    <tr>\n",
              "      <th>8</th>\n",
              "      <td>-0.169322</td>\n",
              "      <td>-0.793456</td>\n",
              "      <td>1</td>\n",
              "    </tr>\n",
              "    <tr>\n",
              "      <th>9</th>\n",
              "      <td>-0.121486</td>\n",
              "      <td>1.021509</td>\n",
              "      <td>0</td>\n",
              "    </tr>\n",
              "  </tbody>\n",
              "</table>\n",
              "</div>\n",
              "    <div class=\"colab-df-buttons\">\n",
              "\n",
              "  <div class=\"colab-df-container\">\n",
              "    <button class=\"colab-df-convert\" onclick=\"convertToInteractive('df-13196a2b-049b-4868-bbbd-540d94917612')\"\n",
              "            title=\"Convert this dataframe to an interactive table.\"\n",
              "            style=\"display:none;\">\n",
              "\n",
              "  <svg xmlns=\"http://www.w3.org/2000/svg\" height=\"24px\" viewBox=\"0 -960 960 960\">\n",
              "    <path d=\"M120-120v-720h720v720H120Zm60-500h600v-160H180v160Zm220 220h160v-160H400v160Zm0 220h160v-160H400v160ZM180-400h160v-160H180v160Zm440 0h160v-160H620v160ZM180-180h160v-160H180v160Zm440 0h160v-160H620v160Z\"/>\n",
              "  </svg>\n",
              "    </button>\n",
              "\n",
              "  <style>\n",
              "    .colab-df-container {\n",
              "      display:flex;\n",
              "      gap: 12px;\n",
              "    }\n",
              "\n",
              "    .colab-df-convert {\n",
              "      background-color: #E8F0FE;\n",
              "      border: none;\n",
              "      border-radius: 50%;\n",
              "      cursor: pointer;\n",
              "      display: none;\n",
              "      fill: #1967D2;\n",
              "      height: 32px;\n",
              "      padding: 0 0 0 0;\n",
              "      width: 32px;\n",
              "    }\n",
              "\n",
              "    .colab-df-convert:hover {\n",
              "      background-color: #E2EBFA;\n",
              "      box-shadow: 0px 1px 2px rgba(60, 64, 67, 0.3), 0px 1px 3px 1px rgba(60, 64, 67, 0.15);\n",
              "      fill: #174EA6;\n",
              "    }\n",
              "\n",
              "    .colab-df-buttons div {\n",
              "      margin-bottom: 4px;\n",
              "    }\n",
              "\n",
              "    [theme=dark] .colab-df-convert {\n",
              "      background-color: #3B4455;\n",
              "      fill: #D2E3FC;\n",
              "    }\n",
              "\n",
              "    [theme=dark] .colab-df-convert:hover {\n",
              "      background-color: #434B5C;\n",
              "      box-shadow: 0px 1px 3px 1px rgba(0, 0, 0, 0.15);\n",
              "      filter: drop-shadow(0px 1px 2px rgba(0, 0, 0, 0.3));\n",
              "      fill: #FFFFFF;\n",
              "    }\n",
              "  </style>\n",
              "\n",
              "    <script>\n",
              "      const buttonEl =\n",
              "        document.querySelector('#df-13196a2b-049b-4868-bbbd-540d94917612 button.colab-df-convert');\n",
              "      buttonEl.style.display =\n",
              "        google.colab.kernel.accessAllowed ? 'block' : 'none';\n",
              "\n",
              "      async function convertToInteractive(key) {\n",
              "        const element = document.querySelector('#df-13196a2b-049b-4868-bbbd-540d94917612');\n",
              "        const dataTable =\n",
              "          await google.colab.kernel.invokeFunction('convertToInteractive',\n",
              "                                                    [key], {});\n",
              "        if (!dataTable) return;\n",
              "\n",
              "        const docLinkHtml = 'Like what you see? Visit the ' +\n",
              "          '<a target=\"_blank\" href=https://colab.research.google.com/notebooks/data_table.ipynb>data table notebook</a>'\n",
              "          + ' to learn more about interactive tables.';\n",
              "        element.innerHTML = '';\n",
              "        dataTable['output_type'] = 'display_data';\n",
              "        await google.colab.output.renderOutput(dataTable, element);\n",
              "        const docLink = document.createElement('div');\n",
              "        docLink.innerHTML = docLinkHtml;\n",
              "        element.appendChild(docLink);\n",
              "      }\n",
              "    </script>\n",
              "  </div>\n",
              "\n",
              "\n",
              "    <div id=\"df-91b7558f-7d55-4f3e-930b-1681c6b12c06\">\n",
              "      <button class=\"colab-df-quickchart\" onclick=\"quickchart('df-91b7558f-7d55-4f3e-930b-1681c6b12c06')\"\n",
              "                title=\"Suggest charts\"\n",
              "                style=\"display:none;\">\n",
              "\n",
              "<svg xmlns=\"http://www.w3.org/2000/svg\" height=\"24px\"viewBox=\"0 0 24 24\"\n",
              "     width=\"24px\">\n",
              "    <g>\n",
              "        <path d=\"M19 3H5c-1.1 0-2 .9-2 2v14c0 1.1.9 2 2 2h14c1.1 0 2-.9 2-2V5c0-1.1-.9-2-2-2zM9 17H7v-7h2v7zm4 0h-2V7h2v10zm4 0h-2v-4h2v4z\"/>\n",
              "    </g>\n",
              "</svg>\n",
              "      </button>\n",
              "\n",
              "<style>\n",
              "  .colab-df-quickchart {\n",
              "      --bg-color: #E8F0FE;\n",
              "      --fill-color: #1967D2;\n",
              "      --hover-bg-color: #E2EBFA;\n",
              "      --hover-fill-color: #174EA6;\n",
              "      --disabled-fill-color: #AAA;\n",
              "      --disabled-bg-color: #DDD;\n",
              "  }\n",
              "\n",
              "  [theme=dark] .colab-df-quickchart {\n",
              "      --bg-color: #3B4455;\n",
              "      --fill-color: #D2E3FC;\n",
              "      --hover-bg-color: #434B5C;\n",
              "      --hover-fill-color: #FFFFFF;\n",
              "      --disabled-bg-color: #3B4455;\n",
              "      --disabled-fill-color: #666;\n",
              "  }\n",
              "\n",
              "  .colab-df-quickchart {\n",
              "    background-color: var(--bg-color);\n",
              "    border: none;\n",
              "    border-radius: 50%;\n",
              "    cursor: pointer;\n",
              "    display: none;\n",
              "    fill: var(--fill-color);\n",
              "    height: 32px;\n",
              "    padding: 0;\n",
              "    width: 32px;\n",
              "  }\n",
              "\n",
              "  .colab-df-quickchart:hover {\n",
              "    background-color: var(--hover-bg-color);\n",
              "    box-shadow: 0 1px 2px rgba(60, 64, 67, 0.3), 0 1px 3px 1px rgba(60, 64, 67, 0.15);\n",
              "    fill: var(--button-hover-fill-color);\n",
              "  }\n",
              "\n",
              "  .colab-df-quickchart-complete:disabled,\n",
              "  .colab-df-quickchart-complete:disabled:hover {\n",
              "    background-color: var(--disabled-bg-color);\n",
              "    fill: var(--disabled-fill-color);\n",
              "    box-shadow: none;\n",
              "  }\n",
              "\n",
              "  .colab-df-spinner {\n",
              "    border: 2px solid var(--fill-color);\n",
              "    border-color: transparent;\n",
              "    border-bottom-color: var(--fill-color);\n",
              "    animation:\n",
              "      spin 1s steps(1) infinite;\n",
              "  }\n",
              "\n",
              "  @keyframes spin {\n",
              "    0% {\n",
              "      border-color: transparent;\n",
              "      border-bottom-color: var(--fill-color);\n",
              "      border-left-color: var(--fill-color);\n",
              "    }\n",
              "    20% {\n",
              "      border-color: transparent;\n",
              "      border-left-color: var(--fill-color);\n",
              "      border-top-color: var(--fill-color);\n",
              "    }\n",
              "    30% {\n",
              "      border-color: transparent;\n",
              "      border-left-color: var(--fill-color);\n",
              "      border-top-color: var(--fill-color);\n",
              "      border-right-color: var(--fill-color);\n",
              "    }\n",
              "    40% {\n",
              "      border-color: transparent;\n",
              "      border-right-color: var(--fill-color);\n",
              "      border-top-color: var(--fill-color);\n",
              "    }\n",
              "    60% {\n",
              "      border-color: transparent;\n",
              "      border-right-color: var(--fill-color);\n",
              "    }\n",
              "    80% {\n",
              "      border-color: transparent;\n",
              "      border-right-color: var(--fill-color);\n",
              "      border-bottom-color: var(--fill-color);\n",
              "    }\n",
              "    90% {\n",
              "      border-color: transparent;\n",
              "      border-bottom-color: var(--fill-color);\n",
              "    }\n",
              "  }\n",
              "</style>\n",
              "\n",
              "      <script>\n",
              "        async function quickchart(key) {\n",
              "          const quickchartButtonEl =\n",
              "            document.querySelector('#' + key + ' button');\n",
              "          quickchartButtonEl.disabled = true;  // To prevent multiple clicks.\n",
              "          quickchartButtonEl.classList.add('colab-df-spinner');\n",
              "          try {\n",
              "            const charts = await google.colab.kernel.invokeFunction(\n",
              "                'suggestCharts', [key], {});\n",
              "          } catch (error) {\n",
              "            console.error('Error during call to suggestCharts:', error);\n",
              "          }\n",
              "          quickchartButtonEl.classList.remove('colab-df-spinner');\n",
              "          quickchartButtonEl.classList.add('colab-df-quickchart-complete');\n",
              "        }\n",
              "        (() => {\n",
              "          let quickchartButtonEl =\n",
              "            document.querySelector('#df-91b7558f-7d55-4f3e-930b-1681c6b12c06 button');\n",
              "          quickchartButtonEl.style.display =\n",
              "            google.colab.kernel.accessAllowed ? 'block' : 'none';\n",
              "        })();\n",
              "      </script>\n",
              "    </div>\n",
              "\n",
              "    </div>\n",
              "  </div>\n"
            ],
            "application/vnd.google.colaboratory.intrinsic+json": {
              "type": "dataframe",
              "variable_name": "circles",
              "summary": "{\n  \"name\": \"circles\",\n  \"rows\": 1000,\n  \"fields\": [\n    {\n      \"column\": \"X1\",\n      \"properties\": {\n        \"dtype\": \"number\",\n        \"std\": 0.6398365674574611,\n        \"min\": -1.0595024599098635,\n        \"max\": 1.0337117525463373,\n        \"num_unique_values\": 1000,\n        \"samples\": [\n          -0.3751930206933384,\n          0.015380346701456493,\n          -0.7027835978832848\n        ],\n        \"semantic_type\": \"\",\n        \"description\": \"\"\n      }\n    },\n    {\n      \"column\": \"X2\",\n      \"properties\": {\n        \"dtype\": \"number\",\n        \"std\": 0.6411559581015379,\n        \"min\": -1.0677683182718436,\n        \"max\": 1.0360036756154805,\n        \"num_unique_values\": 1000,\n        \"samples\": [\n          0.6826597225888621,\n          0.9600260220697324,\n          -0.3147169925147762\n        ],\n        \"semantic_type\": \"\",\n        \"description\": \"\"\n      }\n    },\n    {\n      \"column\": \"label\",\n      \"properties\": {\n        \"dtype\": \"number\",\n        \"std\": 0,\n        \"min\": 0,\n        \"max\": 1,\n        \"num_unique_values\": 2,\n        \"samples\": [\n          0,\n          1\n        ],\n        \"semantic_type\": \"\",\n        \"description\": \"\"\n      }\n    }\n  ]\n}"
            }
          },
          "metadata": {},
          "execution_count": 34
        }
      ]
    },
    {
      "cell_type": "code",
      "source": [
        "#Visualize\n",
        "import matplotlib.pyplot as plt\n",
        "plt.scatter(x=X[:,0],\n",
        "            y=X[:,1],\n",
        "            c=y,\n",
        "            cmap=plt.cm.RdYlBu)"
      ],
      "metadata": {
        "colab": {
          "base_uri": "https://localhost:8080/",
          "height": 447
        },
        "id": "XqOH38wkFz-k",
        "outputId": "0cfff0d1-e505-4aec-fb33-c07f9d656a51"
      },
      "execution_count": 35,
      "outputs": [
        {
          "output_type": "execute_result",
          "data": {
            "text/plain": [
              "<matplotlib.collections.PathCollection at 0x79e792693650>"
            ]
          },
          "metadata": {},
          "execution_count": 35
        },
        {
          "output_type": "display_data",
          "data": {
            "text/plain": [
              "<Figure size 640x480 with 1 Axes>"
            ],
            "image/png": "[encoded data removed]"
          },
          "metadata": {}
        }
      ]
    },
    {
      "cell_type": "code",
      "source": [
        "import torch\n",
        "torch.__version__"
      ],
      "metadata": {
        "colab": {
          "base_uri": "https://localhost:8080/",
          "height": 36
        },
        "id": "qz0hZb_yGfF0",
        "outputId": "d69fd2c2-2e58-40ac-fd33-ab1efe069b3c"
      },
      "execution_count": 36,
      "outputs": [
        {
          "output_type": "execute_result",
          "data": {
            "text/plain": [
              "'2.6.0+cu124'"
            ],
            "application/vnd.google.colaboratory.intrinsic+json": {
              "type": "string"
            }
          },
          "metadata": {},
          "execution_count": 36
        }
      ]
    },
    {
      "cell_type": "code",
      "source": [
        "#Turn data into tensors\n",
        "X = torch.from_numpy(X).type(torch.float)\n",
        "y = torch.from_numpy(y).type(torch.float)\n",
        "\n",
        "X[:5], y[:5]"
      ],
      "metadata": {
        "colab": {
          "base_uri": "https://localhost:8080/"
        },
        "id": "lRvcypEQMMeX",
        "outputId": "dbc70854-da9a-4cc9-b943-0da3b2d3f0a1"
      },
      "execution_count": 37,
      "outputs": [
        {
          "output_type": "execute_result",
          "data": {
            "text/plain": [
              "(tensor([[ 0.7542,  0.2315],\n",
              "         [-0.7562,  0.1533],\n",
              "         [-0.8154,  0.1733],\n",
              "         [-0.3937,  0.6929],\n",
              "         [ 0.4422, -0.8967]]),\n",
              " tensor([1., 1., 1., 1., 0.]))"
            ]
          },
          "metadata": {},
          "execution_count": 37
        }
      ]
    },
    {
      "cell_type": "code",
      "source": [
        "type(X), X.dtype, y.dtype"
      ],
      "metadata": {
        "colab": {
          "base_uri": "https://localhost:8080/"
        },
        "id": "fXoEm3D3NJr2",
        "outputId": "24a421b1-6e2f-470d-9ee9-ad1be88d72dc"
      },
      "execution_count": 38,
      "outputs": [
        {
          "output_type": "execute_result",
          "data": {
            "text/plain": [
              "(torch.Tensor, torch.float32, torch.float32)"
            ]
          },
          "metadata": {},
          "execution_count": 38
        }
      ]
    },
    {
      "cell_type": "code",
      "source": [
        "#split data into training and test datasets\n",
        "from sklearn.model_selection import train_test_split\n",
        "\n",
        "X_train, X_test, y_train, y_test = train_test_split(X,\n",
        "                                                    y,\n",
        "                                                    test_size=0.2,\n",
        "                                                    random_state=42)"
      ],
      "metadata": {
        "id": "JeLnQ9IvNP8V"
      },
      "execution_count": 39,
      "outputs": []
    },
    {
      "cell_type": "code",
      "source": [
        "len(X_train), len(X_test), len(y_train), len(y_test)"
      ],
      "metadata": {
        "colab": {
          "base_uri": "https://localhost:8080/"
        },
        "id": "vbdqxuOyRSDf",
        "outputId": "234c4d59-1150-452c-be49-3da5922248f8"
      },
      "execution_count": 40,
      "outputs": [
        {
          "output_type": "execute_result",
          "data": {
            "text/plain": [
              "(800, 200, 800, 200)"
            ]
          },
          "metadata": {},
          "execution_count": 40
        }
      ]
    },
    {
      "cell_type": "code",
      "source": [
        "#building a model\n",
        "#for that needs to do followings thing\n",
        "# setup device agonistic code\n",
        "# construct a model\n",
        "# define loss function\n",
        "# create a training and test loop\n",
        "\n",
        "#importing pytorch and nn\n",
        "import torch\n",
        "from torch import nn\n",
        "\n",
        "#make device agnostic code\n",
        "device = \"cuda\" if torch.cuda.is_available() else \"cpu\"\n",
        "device"
      ],
      "metadata": {
        "colab": {
          "base_uri": "https://localhost:8080/",
          "height": 36
        },
        "id": "87bWDLG5RZe4",
        "outputId": "84fb9181-fa2e-4ddb-a525-324ba076d3e9"
      },
      "execution_count": 41,
      "outputs": [
        {
          "output_type": "execute_result",
          "data": {
            "text/plain": [
              "'cuda'"
            ],
            "application/vnd.google.colaboratory.intrinsic+json": {
              "type": "string"
            }
          },
          "metadata": {},
          "execution_count": 41
        }
      ]
    },
    {
      "cell_type": "code",
      "source": [
        "X_train"
      ],
      "metadata": {
        "colab": {
          "base_uri": "https://localhost:8080/"
        },
        "id": "y7UWva9OVKDd",
        "outputId": "e23d5cf0-a661-4661-df49-696b76a24241"
      },
      "execution_count": 42,
      "outputs": [
        {
          "output_type": "execute_result",
          "data": {
            "text/plain": [
              "tensor([[ 0.6579, -0.4651],\n",
              "        [ 0.6319, -0.7347],\n",
              "        [-1.0086, -0.1240],\n",
              "        ...,\n",
              "        [ 0.0157, -1.0300],\n",
              "        [ 1.0110,  0.1680],\n",
              "        [ 0.5578, -0.5709]])"
            ]
          },
          "metadata": {},
          "execution_count": 42
        }
      ]
    },
    {
      "cell_type": "code",
      "source": [],
      "metadata": {
        "id": "vzIv1LPoWM5e"
      },
      "execution_count": 42,
      "outputs": []
    },
    {
      "cell_type": "code",
      "source": [
        "#create a model\n",
        "#subclass nn.Module (subclass nn.Module)\n",
        "#create nn.Linear layers capable of handling the shapes of our data\n",
        "#define forward() method that outlines the forward pass of the model\n",
        "# instatiate an instance of our model class and send it to the target device\n",
        "\n",
        "#construct a model that subclasses nn.Module\n",
        "class CircleModelV0(nn.Module):\n",
        "    def __init__(self):\n",
        "        super().__init__()\n",
        "        #create nn.Linear layers\n",
        "        self.layer_1 = nn.Linear(in_features=2, out_features=5)\n",
        "        self.layer_2 = nn.Linear(in_features=5, out_features=1)\n",
        "#define forward method that outline forward pass\n",
        "    def forward(self, x):\n",
        "      return self.layer_2(self.layer_1(x))\n",
        "\n",
        "#instantiate an instance of our model class and send it to target device\n",
        "model_0 = CircleModelV0().to(device)\n",
        "model_0"
      ],
      "metadata": {
        "id": "3DgCt7KtVXKE",
        "colab": {
          "base_uri": "https://localhost:8080/"
        },
        "outputId": "668a4a27-5a49-4c35-b333-37894843ef93"
      },
      "execution_count": 43,
      "outputs": [
        {
          "output_type": "execute_result",
          "data": {
            "text/plain": [
              "CircleModelV0(\n",
              "  (layer_1): Linear(in_features=2, out_features=5, bias=True)\n",
              "  (layer_2): Linear(in_features=5, out_features=1, bias=True)\n",
              ")"
            ]
          },
          "metadata": {},
          "execution_count": 43
        }
      ]
    },
    {
      "cell_type": "code",
      "source": [
        "device"
      ],
      "metadata": {
        "colab": {
          "base_uri": "https://localhost:8080/",
          "height": 36
        },
        "id": "gOpEBa3LrWoL",
        "outputId": "09b4cb2d-d94c-40ae-b507-4260b06c92db"
      },
      "execution_count": 44,
      "outputs": [
        {
          "output_type": "execute_result",
          "data": {
            "text/plain": [
              "'cuda'"
            ],
            "application/vnd.google.colaboratory.intrinsic+json": {
              "type": "string"
            }
          },
          "metadata": {},
          "execution_count": 44
        }
      ]
    },
    {
      "cell_type": "code",
      "source": [
        "next(model_0.parameters()).device\n"
      ],
      "metadata": {
        "colab": {
          "base_uri": "https://localhost:8080/"
        },
        "id": "3Yev-cC4sF49",
        "outputId": "242bef07-fc58-4ca7-e712-08efb8910d5a"
      },
      "execution_count": 45,
      "outputs": [
        {
          "output_type": "execute_result",
          "data": {
            "text/plain": [
              "device(type='cuda', index=0)"
            ]
          },
          "metadata": {},
          "execution_count": 45
        }
      ]
    },
    {
      "cell_type": "code",
      "source": [
        "#let's replicate the model above using nn.sequential\n",
        "model_0 = nn.Sequential(\n",
        "    nn.Linear(in_features=2, out_features=5),\n",
        "    nn.Linear(in_features=5, out_features=1)\n",
        ").to(device)\n",
        "\n",
        "model_0.state_dict()"
      ],
      "metadata": {
        "colab": {
          "base_uri": "https://localhost:8080/"
        },
        "id": "y-_tPMlysNVS",
        "outputId": "2d586bf1-fb59-4467-e34a-fe152273b02a"
      },
      "execution_count": 46,
      "outputs": [
        {
          "output_type": "execute_result",
          "data": {
            "text/plain": [
              "OrderedDict([('0.weight',\n",
              "              tensor([[-0.0829, -0.2872],\n",
              "                      [ 0.4691, -0.5582],\n",
              "                      [-0.3260, -0.1997],\n",
              "                      [-0.4252,  0.0667],\n",
              "                      [-0.6984,  0.6386]], device='cuda:0')),\n",
              "             ('0.bias',\n",
              "              tensor([-0.6007,  0.5459,  0.1177, -0.2296,  0.4370], device='cuda:0')),\n",
              "             ('1.weight',\n",
              "              tensor([[ 0.0697,  0.3613,  0.0489, -0.1410,  0.1202]], device='cuda:0')),\n",
              "             ('1.bias', tensor([-0.1213], device='cuda:0'))])"
            ]
          },
          "metadata": {},
          "execution_count": 46
        }
      ]
    },
    {
      "cell_type": "code",
      "source": [
        "#make predictions\n",
        "with torch.inference_mode():\n",
        " untrained_preds = model_0(X_test.to(device))\n",
        "print(f\"Length of predictions :{len(untrained_preds)}, shape:{untrained_preds.shape}\")\n",
        "print(f\"Length of test samples :{len(X_test)}, shape:{X_test.shape}\")\n",
        "print(f\"\\nFirst 10 predictions :\\n{torch.round(untrained_preds[:10])}\")\n",
        "print(f\"\\nFirst 10 labels :\\n{y_test[:10]}\")\n",
        "\n"
      ],
      "metadata": {
        "colab": {
          "base_uri": "https://localhost:8080/"
        },
        "id": "rKInAXLkz7U1",
        "outputId": "ba0f923a-55e5-4614-d6e3-666e46609a81"
      },
      "execution_count": 47,
      "outputs": [
        {
          "output_type": "stream",
          "name": "stdout",
          "text": [
            "Length of predictions :200, shape:torch.Size([200, 1])\n",
            "Length of test samples :200, shape:torch.Size([200, 2])\n",
            "\n",
            "First 10 predictions :\n",
            "tensor([[-0.],\n",
            "        [-0.],\n",
            "        [0.],\n",
            "        [-0.],\n",
            "        [0.],\n",
            "        [0.],\n",
            "        [0.],\n",
            "        [0.],\n",
            "        [0.],\n",
            "        [-0.]], device='cuda:0')\n",
            "\n",
            "First 10 labels :\n",
            "tensor([1., 0., 1., 0., 1., 1., 0., 0., 1., 0.])\n"
          ]
        }
      ]
    },
    {
      "cell_type": "code",
      "source": [
        "##setup loss function and optimizer\n",
        "\n",
        "#loss_fn = nn.BCELoss()\n",
        "nn.Sequential()\n",
        "loss_fn = nn.BCEWithLogitsLoss() #it is built-in  sigmoid activation function\n",
        "optimizer = torch.optim.SGD(params=model_0.parameters(),lr=0.1)"
      ],
      "metadata": {
        "id": "cdxojGWy8g7C"
      },
      "execution_count": 48,
      "outputs": []
    },
    {
      "cell_type": "code",
      "source": [
        "#calcuate accuracy\n",
        "def accuracy_fn(y_true, y_pred):\n",
        "  correct = torch.eq(y_true, y_pred).sum().item()\n",
        "  acc = (correct/len(y_pred))*100\n",
        "  return acc\n",
        ""
      ],
      "metadata": {
        "id": "bWeF_spbNX1t"
      },
      "execution_count": 49,
      "outputs": []
    },
    {
      "cell_type": "code",
      "source": [
        "#Train the model making training loop\n",
        "#first 5 outputs of the forward pass on the test DATA\n",
        "model_0.eval()\n",
        "with torch.inference_mode():\n",
        " y_logits = model_0(X_test.to(device))[:5]\n",
        "y_logits\n"
      ],
      "metadata": {
        "colab": {
          "base_uri": "https://localhost:8080/"
        },
        "id": "wrltuERpz20J",
        "outputId": "9f09b5e8-dedd-4e56-935f-d2a6cd89f94a"
      },
      "execution_count": 50,
      "outputs": [
        {
          "output_type": "execute_result",
          "data": {
            "text/plain": [
              "tensor([[-0.0338],\n",
              "        [-0.0309],\n",
              "        [ 0.0894],\n",
              "        [-0.0692],\n",
              "        [ 0.2967]], device='cuda:0')"
            ]
          },
          "metadata": {},
          "execution_count": 50
        }
      ]
    },
    {
      "cell_type": "code",
      "source": [
        "#use sigmoid activation function on model\n",
        "y_pred_probs = torch.sigmoid(y_logits)\n",
        "y_pred_probs"
      ],
      "metadata": {
        "colab": {
          "base_uri": "https://localhost:8080/"
        },
        "id": "uXJKHo_h2mzn",
        "outputId": "6580ab0a-4938-4a52-bfcb-cfcd53f0e695"
      },
      "execution_count": 51,
      "outputs": [
        {
          "output_type": "execute_result",
          "data": {
            "text/plain": [
              "tensor([[0.4916],\n",
              "        [0.4923],\n",
              "        [0.5223],\n",
              "        [0.4827],\n",
              "        [0.5736]], device='cuda:0')"
            ]
          },
          "metadata": {},
          "execution_count": 51
        }
      ]
    },
    {
      "cell_type": "code",
      "source": [
        "torch.manual_seed(42)\n",
        "#set the number of epochs\n",
        "epochs = 1000\n",
        "#put data to target device\n",
        "X_train, y_train = X_train.to(device), y_train.to(device)\n",
        "X_test, y_test = X_test.to(device), y_test.to(device)\n",
        "\n",
        "#build training and evaluation loop\n",
        "for epoch in range(epochs):\n",
        "\n",
        "  ##training\n",
        "  model_0.train()\n",
        "\n",
        "  #forward pass\n",
        "  y_logits = model_0(X_train).squeeze()\n",
        "  y_pred = torch.round(torch.sigmoid(y_logits))\n",
        "\n",
        "  #calculate loss\n",
        "  loss = loss_fn(y_logits,\n",
        "                 y_train)\n",
        "  acc = accuracy_fn(y_true=y_train,\n",
        "                    y_pred=y_pred)\n",
        "  #optimizer zero grad\n",
        "  optimizer.zero_grad()\n",
        "\n",
        "  #loss backward\n",
        "  loss.backward()\n",
        "\n",
        "  #optimizer step\n",
        "  optimizer.step()\n",
        "\n",
        "  ###Testing\n",
        "  model_0.eval()\n",
        "\n",
        "  with torch.inference_mode():\n",
        "    test_logits = model_0(X_test).squeeze()\n",
        "    test_pred = torch.round(torch.sigmoid(test_logits))\n",
        "\n",
        "    test_loss = loss_fn(test_logits,\n",
        "                        y_test)\n",
        "    test_acc = accuracy_fn(y_true=y_test,\n",
        "                           y_pred=test_pred)\n",
        "    #print out what's happening\n",
        "    if epoch % 10 == 0:\n",
        "      print(f\"Epoch: {epoch} | Loss: {loss:.5f} | Acc: {acc:.2f}% | Test Loss: {test_loss:.5f} | Test Acc: {test_acc:.2f}%\")\n",
        ""
      ],
      "metadata": {
        "colab": {
          "base_uri": "https://localhost:8080/"
        },
        "id": "-lK9UAgi3VK9",
        "outputId": "d721964a-4a02-4435-a8ee-ec67236a8847"
      },
      "execution_count": 52,
      "outputs": [
        {
          "output_type": "stream",
          "name": "stdout",
          "text": [
            "Epoch: 0 | Loss: 0.69796 | Acc: 51.88% | Test Loss: 0.69440 | Test Acc: 58.00%\n",
            "Epoch: 10 | Loss: 0.69590 | Acc: 51.25% | Test Loss: 0.69305 | Test Acc: 53.00%\n",
            "Epoch: 20 | Loss: 0.69490 | Acc: 51.62% | Test Loss: 0.69254 | Test Acc: 49.50%\n",
            "Epoch: 30 | Loss: 0.69435 | Acc: 51.12% | Test Loss: 0.69236 | Test Acc: 49.50%\n",
            "Epoch: 40 | Loss: 0.69401 | Acc: 50.88% | Test Loss: 0.69232 | Test Acc: 51.00%\n",
            "Epoch: 50 | Loss: 0.69378 | Acc: 50.25% | Test Loss: 0.69234 | Test Acc: 50.00%\n",
            "Epoch: 60 | Loss: 0.69362 | Acc: 50.00% | Test Loss: 0.69239 | Test Acc: 51.50%\n",
            "Epoch: 70 | Loss: 0.69351 | Acc: 50.25% | Test Loss: 0.69246 | Test Acc: 51.00%\n",
            "Epoch: 80 | Loss: 0.69342 | Acc: 49.88% | Test Loss: 0.69254 | Test Acc: 50.00%\n",
            "Epoch: 90 | Loss: 0.69336 | Acc: 49.88% | Test Loss: 0.69262 | Test Acc: 53.00%\n",
            "Epoch: 100 | Loss: 0.69331 | Acc: 49.25% | Test Loss: 0.69271 | Test Acc: 53.00%\n",
            "Epoch: 110 | Loss: 0.69327 | Acc: 49.75% | Test Loss: 0.69279 | Test Acc: 54.00%\n",
            "Epoch: 120 | Loss: 0.69324 | Acc: 50.25% | Test Loss: 0.69286 | Test Acc: 53.00%\n",
            "Epoch: 130 | Loss: 0.69321 | Acc: 49.75% | Test Loss: 0.69294 | Test Acc: 55.00%\n",
            "Epoch: 140 | Loss: 0.69319 | Acc: 50.62% | Test Loss: 0.69301 | Test Acc: 54.00%\n",
            "Epoch: 150 | Loss: 0.69317 | Acc: 52.25% | Test Loss: 0.69307 | Test Acc: 51.00%\n",
            "Epoch: 160 | Loss: 0.69315 | Acc: 51.38% | Test Loss: 0.69314 | Test Acc: 56.00%\n",
            "Epoch: 170 | Loss: 0.69314 | Acc: 51.12% | Test Loss: 0.69320 | Test Acc: 52.00%\n",
            "Epoch: 180 | Loss: 0.69313 | Acc: 51.25% | Test Loss: 0.69325 | Test Acc: 48.50%\n",
            "Epoch: 190 | Loss: 0.69311 | Acc: 51.00% | Test Loss: 0.69331 | Test Acc: 50.00%\n",
            "Epoch: 200 | Loss: 0.69310 | Acc: 50.88% | Test Loss: 0.69336 | Test Acc: 49.00%\n",
            "Epoch: 210 | Loss: 0.69309 | Acc: 50.62% | Test Loss: 0.69341 | Test Acc: 47.50%\n",
            "Epoch: 220 | Loss: 0.69309 | Acc: 51.12% | Test Loss: 0.69345 | Test Acc: 47.00%\n",
            "Epoch: 230 | Loss: 0.69308 | Acc: 51.25% | Test Loss: 0.69350 | Test Acc: 47.50%\n",
            "Epoch: 240 | Loss: 0.69307 | Acc: 51.25% | Test Loss: 0.69354 | Test Acc: 49.00%\n",
            "Epoch: 250 | Loss: 0.69306 | Acc: 51.12% | Test Loss: 0.69358 | Test Acc: 48.00%\n",
            "Epoch: 260 | Loss: 0.69306 | Acc: 51.25% | Test Loss: 0.69362 | Test Acc: 47.00%\n",
            "Epoch: 270 | Loss: 0.69305 | Acc: 51.38% | Test Loss: 0.69366 | Test Acc: 46.50%\n",
            "Epoch: 280 | Loss: 0.69305 | Acc: 50.88% | Test Loss: 0.69369 | Test Acc: 46.50%\n",
            "Epoch: 290 | Loss: 0.69304 | Acc: 50.75% | Test Loss: 0.69373 | Test Acc: 46.50%\n",
            "Epoch: 300 | Loss: 0.69304 | Acc: 51.12% | Test Loss: 0.69376 | Test Acc: 46.50%\n",
            "Epoch: 310 | Loss: 0.69303 | Acc: 50.88% | Test Loss: 0.69379 | Test Acc: 47.50%\n",
            "Epoch: 320 | Loss: 0.69303 | Acc: 51.12% | Test Loss: 0.69382 | Test Acc: 47.00%\n",
            "Epoch: 330 | Loss: 0.69303 | Acc: 51.25% | Test Loss: 0.69385 | Test Acc: 47.50%\n",
            "Epoch: 340 | Loss: 0.69302 | Acc: 51.00% | Test Loss: 0.69388 | Test Acc: 47.00%\n",
            "Epoch: 350 | Loss: 0.69302 | Acc: 51.00% | Test Loss: 0.69391 | Test Acc: 46.00%\n",
            "Epoch: 360 | Loss: 0.69302 | Acc: 50.75% | Test Loss: 0.69394 | Test Acc: 46.00%\n",
            "Epoch: 370 | Loss: 0.69301 | Acc: 50.75% | Test Loss: 0.69396 | Test Acc: 47.00%\n",
            "Epoch: 380 | Loss: 0.69301 | Acc: 51.38% | Test Loss: 0.69399 | Test Acc: 47.50%\n",
            "Epoch: 390 | Loss: 0.69301 | Acc: 51.25% | Test Loss: 0.69401 | Test Acc: 47.50%\n",
            "Epoch: 400 | Loss: 0.69301 | Acc: 51.25% | Test Loss: 0.69403 | Test Acc: 47.50%\n",
            "Epoch: 410 | Loss: 0.69301 | Acc: 51.50% | Test Loss: 0.69406 | Test Acc: 47.50%\n",
            "Epoch: 420 | Loss: 0.69300 | Acc: 51.62% | Test Loss: 0.69408 | Test Acc: 47.50%\n",
            "Epoch: 430 | Loss: 0.69300 | Acc: 51.25% | Test Loss: 0.69410 | Test Acc: 47.50%\n",
            "Epoch: 440 | Loss: 0.69300 | Acc: 51.25% | Test Loss: 0.69412 | Test Acc: 47.50%\n",
            "Epoch: 450 | Loss: 0.69300 | Acc: 50.88% | Test Loss: 0.69414 | Test Acc: 47.00%\n",
            "Epoch: 460 | Loss: 0.69300 | Acc: 51.00% | Test Loss: 0.69416 | Test Acc: 47.00%\n",
            "Epoch: 470 | Loss: 0.69300 | Acc: 51.00% | Test Loss: 0.69418 | Test Acc: 47.00%\n",
            "Epoch: 480 | Loss: 0.69300 | Acc: 51.00% | Test Loss: 0.69419 | Test Acc: 47.00%\n",
            "Epoch: 490 | Loss: 0.69299 | Acc: 51.12% | Test Loss: 0.69421 | Test Acc: 47.00%\n",
            "Epoch: 500 | Loss: 0.69299 | Acc: 50.88% | Test Loss: 0.69423 | Test Acc: 47.00%\n",
            "Epoch: 510 | Loss: 0.69299 | Acc: 51.00% | Test Loss: 0.69424 | Test Acc: 47.00%\n",
            "Epoch: 520 | Loss: 0.69299 | Acc: 51.12% | Test Loss: 0.69426 | Test Acc: 47.00%\n",
            "Epoch: 530 | Loss: 0.69299 | Acc: 51.25% | Test Loss: 0.69427 | Test Acc: 46.50%\n",
            "Epoch: 540 | Loss: 0.69299 | Acc: 51.12% | Test Loss: 0.69429 | Test Acc: 46.50%\n",
            "Epoch: 550 | Loss: 0.69299 | Acc: 50.88% | Test Loss: 0.69430 | Test Acc: 46.50%\n",
            "Epoch: 560 | Loss: 0.69299 | Acc: 50.88% | Test Loss: 0.69432 | Test Acc: 46.50%\n",
            "Epoch: 570 | Loss: 0.69299 | Acc: 50.88% | Test Loss: 0.69433 | Test Acc: 46.50%\n",
            "Epoch: 580 | Loss: 0.69299 | Acc: 50.88% | Test Loss: 0.69434 | Test Acc: 47.00%\n",
            "Epoch: 590 | Loss: 0.69299 | Acc: 51.00% | Test Loss: 0.69435 | Test Acc: 46.50%\n",
            "Epoch: 600 | Loss: 0.69299 | Acc: 51.25% | Test Loss: 0.69436 | Test Acc: 46.50%\n",
            "Epoch: 610 | Loss: 0.69299 | Acc: 51.12% | Test Loss: 0.69438 | Test Acc: 46.50%\n",
            "Epoch: 620 | Loss: 0.69299 | Acc: 51.25% | Test Loss: 0.69439 | Test Acc: 46.50%\n",
            "Epoch: 630 | Loss: 0.69298 | Acc: 51.25% | Test Loss: 0.69440 | Test Acc: 46.00%\n",
            "Epoch: 640 | Loss: 0.69298 | Acc: 51.25% | Test Loss: 0.69441 | Test Acc: 46.00%\n",
            "Epoch: 650 | Loss: 0.69298 | Acc: 51.25% | Test Loss: 0.69442 | Test Acc: 46.00%\n",
            "Epoch: 660 | Loss: 0.69298 | Acc: 51.25% | Test Loss: 0.69443 | Test Acc: 46.00%\n",
            "Epoch: 670 | Loss: 0.69298 | Acc: 51.25% | Test Loss: 0.69444 | Test Acc: 46.00%\n",
            "Epoch: 680 | Loss: 0.69298 | Acc: 51.25% | Test Loss: 0.69444 | Test Acc: 46.00%\n",
            "Epoch: 690 | Loss: 0.69298 | Acc: 51.38% | Test Loss: 0.69445 | Test Acc: 46.00%\n",
            "Epoch: 700 | Loss: 0.69298 | Acc: 51.25% | Test Loss: 0.69446 | Test Acc: 46.00%\n",
            "Epoch: 710 | Loss: 0.69298 | Acc: 51.25% | Test Loss: 0.69447 | Test Acc: 46.00%\n",
            "Epoch: 720 | Loss: 0.69298 | Acc: 51.38% | Test Loss: 0.69448 | Test Acc: 46.00%\n",
            "Epoch: 730 | Loss: 0.69298 | Acc: 51.25% | Test Loss: 0.69448 | Test Acc: 46.00%\n",
            "Epoch: 740 | Loss: 0.69298 | Acc: 51.25% | Test Loss: 0.69449 | Test Acc: 46.00%\n",
            "Epoch: 750 | Loss: 0.69298 | Acc: 51.25% | Test Loss: 0.69450 | Test Acc: 46.00%\n",
            "Epoch: 760 | Loss: 0.69298 | Acc: 51.38% | Test Loss: 0.69450 | Test Acc: 46.00%\n",
            "Epoch: 770 | Loss: 0.69298 | Acc: 51.38% | Test Loss: 0.69451 | Test Acc: 46.00%\n",
            "Epoch: 780 | Loss: 0.69298 | Acc: 51.38% | Test Loss: 0.69452 | Test Acc: 46.00%\n",
            "Epoch: 790 | Loss: 0.69298 | Acc: 51.50% | Test Loss: 0.69452 | Test Acc: 45.50%\n",
            "Epoch: 800 | Loss: 0.69298 | Acc: 51.50% | Test Loss: 0.69453 | Test Acc: 45.50%\n",
            "Epoch: 810 | Loss: 0.69298 | Acc: 51.50% | Test Loss: 0.69453 | Test Acc: 45.50%\n",
            "Epoch: 820 | Loss: 0.69298 | Acc: 51.50% | Test Loss: 0.69454 | Test Acc: 45.00%\n",
            "Epoch: 830 | Loss: 0.69298 | Acc: 51.50% | Test Loss: 0.69454 | Test Acc: 45.00%\n",
            "Epoch: 840 | Loss: 0.69298 | Acc: 51.62% | Test Loss: 0.69455 | Test Acc: 45.00%\n",
            "Epoch: 850 | Loss: 0.69298 | Acc: 51.62% | Test Loss: 0.69455 | Test Acc: 45.00%\n",
            "Epoch: 860 | Loss: 0.69298 | Acc: 51.62% | Test Loss: 0.69456 | Test Acc: 45.00%\n",
            "Epoch: 870 | Loss: 0.69298 | Acc: 51.62% | Test Loss: 0.69456 | Test Acc: 45.00%\n",
            "Epoch: 880 | Loss: 0.69298 | Acc: 51.50% | Test Loss: 0.69457 | Test Acc: 45.00%\n",
            "Epoch: 890 | Loss: 0.69298 | Acc: 51.38% | Test Loss: 0.69457 | Test Acc: 45.00%\n",
            "Epoch: 900 | Loss: 0.69298 | Acc: 51.38% | Test Loss: 0.69458 | Test Acc: 45.00%\n",
            "Epoch: 910 | Loss: 0.69298 | Acc: 51.38% | Test Loss: 0.69458 | Test Acc: 45.00%\n",
            "Epoch: 920 | Loss: 0.69298 | Acc: 51.38% | Test Loss: 0.69458 | Test Acc: 45.00%\n",
            "Epoch: 930 | Loss: 0.69298 | Acc: 51.38% | Test Loss: 0.69459 | Test Acc: 45.00%\n",
            "Epoch: 940 | Loss: 0.69298 | Acc: 51.38% | Test Loss: 0.69459 | Test Acc: 45.00%\n",
            "Epoch: 950 | Loss: 0.69298 | Acc: 51.62% | Test Loss: 0.69459 | Test Acc: 45.00%\n",
            "Epoch: 960 | Loss: 0.69298 | Acc: 51.62% | Test Loss: 0.69460 | Test Acc: 45.00%\n",
            "Epoch: 970 | Loss: 0.69298 | Acc: 51.62% | Test Loss: 0.69460 | Test Acc: 45.00%\n",
            "Epoch: 980 | Loss: 0.69298 | Acc: 51.62% | Test Loss: 0.69460 | Test Acc: 45.00%\n",
            "Epoch: 990 | Loss: 0.69298 | Acc: 51.38% | Test Loss: 0.69460 | Test Acc: 45.00%\n"
          ]
        }
      ]
    },
    {
      "cell_type": "code",
      "source": [
        "#make predictions and evaluate the model\n",
        "import requests\n",
        "from pathlib import Path\n",
        "\n",
        "#download helper function from learn pytorch repo\n",
        "if Path(\"helper_functions.py\").is_file():\n",
        "  print(\"helper_functions.py already exists, skipping download\")\n",
        "else:\n",
        "  print(\"Downloading helper_functions.py\")\n",
        "  request = requests.get(\"https://raw.githubusercontent.com/mrdbourke/pytorch-deep-learning/main/helper_functions.py\")\n",
        "  with open(\"helper_functions.py\", \"wb\") as f:\n",
        "    f.write(request.content)\n",
        "from helper_functions import plot_predictions, plot_decision_boundary\n"
      ],
      "metadata": {
        "colab": {
          "base_uri": "https://localhost:8080/"
        },
        "id": "nKBDHLfEBfZm",
        "outputId": "176ad002-e600-4f1e-f138-e101984a1104"
      },
      "execution_count": 53,
      "outputs": [
        {
          "output_type": "stream",
          "name": "stdout",
          "text": [
            "helper_functions.py already exists, skipping download\n"
          ]
        }
      ]
    },
    {
      "cell_type": "code",
      "source": [
        "#plot decision boundary of the model\n",
        "plt.figure(figsize=(12,6))\n",
        "plt.subplot(1,2,1)\n",
        "plt.title(\"Train\")\n",
        "plot_decision_boundary(model_0, X_train, y_train)\n",
        "plt.subplot(1,2,2)"
      ],
      "metadata": {
        "colab": {
          "base_uri": "https://localhost:8080/",
          "height": 464
        },
        "id": "3_xHu_PcR77R",
        "outputId": "b00b3fa4-2084-4bb5-a45f-987b8a744555"
      },
      "execution_count": 54,
      "outputs": [
        {
          "output_type": "execute_result",
          "data": {
            "text/plain": [
              "<Axes: >"
            ]
          },
          "metadata": {},
          "execution_count": 54
        },
        {
          "output_type": "display_data",
          "data": {
            "text/plain": [
              "<Figure size 1200x600 with 2 Axes>"
            ],
            "image/png": "[encoded data removed]"
          },
          "metadata": {}
        }
      ]
    },
    {
      "cell_type": "code",
      "source": [
        "#Improving the model\n"
      ],
      "metadata": {
        "id": "KX-kBhH9SPFl"
      },
      "execution_count": 54,
      "outputs": []
    }
  ]
}